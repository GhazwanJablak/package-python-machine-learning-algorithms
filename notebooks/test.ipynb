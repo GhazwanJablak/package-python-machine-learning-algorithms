{
 "cells": [
  {
   "cell_type": "code",
   "execution_count": 1,
   "id": "dae4875e",
   "metadata": {},
   "outputs": [],
   "source": [
    "import numpy as np\n",
    "import sys\n",
    "import os\n",
    "from sklearn import datasets\n",
    "from sklearn.model_selection import train_test_split\n",
    "sys.path.append(\"..\")\n",
    "from src.knn import KNNClassifier\n",
    "from src.kmeans import KmeansClustering\n",
    "from src.utils import accuracy"
   ]
  },
  {
   "cell_type": "code",
   "execution_count": null,
   "id": "0d12c515",
   "metadata": {},
   "outputs": [
    {
     "name": "stdout",
     "output_type": "stream",
     "text": [
      "KNN classification accuracy 1.0\n"
     ]
    }
   ],
   "source": [
    "\n",
    "iris = datasets.load_iris()\n",
    "X, y = iris.data, iris.target\n",
    "\n",
    "X_train, X_test, y_train, y_test = train_test_split(\n",
    "    X, y, test_size=0.2, random_state=1234\n",
    "    )\n",
    "\n",
    "k = 3\n",
    "clf = KNNClassifier(k=k)\n",
    "clf.fit(X_train, y_train)\n",
    "predictions = clf.predict(X_test)\n",
    "print(\"KNN classification accuracy\", accuracy(y_test, predictions))"
   ]
  },
  {
   "cell_type": "code",
   "execution_count": 2,
   "id": "e3005f1e",
   "metadata": {},
   "outputs": [
    {
     "name": "stdout",
     "output_type": "stream",
     "text": [
      "(500, 2)\n",
      "4\n"
     ]
    }
   ],
   "source": [
    "X, y = datasets.make_blobs(\n",
    "        centers=4, n_samples=500, n_features=2, shuffle=True, random_state=40\n",
    "    )\n",
    "print(X.shape)\n",
    "\n",
    "clusters = len(np.unique(y))\n",
    "print(clusters)"
   ]
  },
  {
   "cell_type": "code",
   "execution_count": null,
   "id": "c60c4674",
   "metadata": {},
   "outputs": [],
   "source": [
    "class KmeansClustering():\n",
    "    \n",
    "    def __init__(self, k, iterations):\n",
    "        self.k = k\n",
    "        self.iterations = iterations\n",
    "    \n",
    "    def predict(self, X):\n",
    "        self.n_samples, self.n_features = X.shape\n",
    "        for _ in range(self.iterations):\n",
    "\n",
    "            centroids_idx = np.random.choice(X.shape[0], 4, replace=False)\n",
    "            self.centroids = [X[idx] for idx in centroids_idx]\n",
    "\n",
    "            self.clusters = self.create_clusters(X)\n",
    "            old_centroids = self.centroids\n",
    "            self.centroids = self.new_centroids(X)\n",
    "            if self.is_converge(old_centroids):\n",
    "                break\n",
    "        labels = self.get_labels()\n",
    "        return labels\n",
    "        \n",
    "    \n",
    "    @staticmethod\n",
    "    def get_centroids(point, centroids):\n",
    "        distances = [euclidean_distance(point, centroid) for centroid in centroids]\n",
    "        idx = np.argmin(distances)\n",
    "        return idx\n",
    "    \n",
    "    def create_clusters(self, X):\n",
    "        self.clusters = [[] for _ in range(self.k)]\n",
    "        for idx, x in enumerate(X):\n",
    "            centroid = self.get_centroids(x, self.centroids)\n",
    "            self.clusters[centroid].append(idx)\n",
    "        return self.clusters\n",
    "\n",
    "    def new_centroids(self, X):\n",
    "        centroids = np.zeros((self.k, X.shape[1]))\n",
    "        for idx, cluster in enumerate(self.clusters):\n",
    "            cluster_mean = np.mean(X[cluster], axis=0)\n",
    "        centroids[idx] = cluster_mean\n",
    "        return centroids\n",
    "    \n",
    "    def is_converge(self, new_centroids):\n",
    "        val = sum([euclidean_distance(new_centroids[i], self.centroids[i]) for i in range(self.k)])\n",
    "        return val==0\n",
    "\n",
    "    def get_labels(self):\n",
    "        labels = np.empty(self.n_samples)\n",
    "        for idx, item in enumerate(self.clusters):\n",
    "            for val in item:\n",
    "                labels[val]=idx\n",
    "        return labels"
   ]
  },
  {
   "cell_type": "code",
   "execution_count": 12,
   "id": "71e096d9",
   "metadata": {},
   "outputs": [],
   "source": [
    "kmeans = KmeansClustering(k=4, iterations=200)\n",
    "labels = kmeans.predict(X)"
   ]
  },
  {
   "cell_type": "code",
   "execution_count": 13,
   "id": "b16f0963",
   "metadata": {},
   "outputs": [
    {
     "data": {
      "text/plain": [
       "array([1., 3., 0., 0., 1., 3., 0., 1., 1., 0., 0., 2., 1., 0., 3., 3., 3.,\n",
       "       2., 0., 2., 3., 1., 1., 0., 0., 1., 2., 1., 1., 1., 2., 3., 1., 0.,\n",
       "       1., 3., 1., 0., 3., 2., 0., 0., 3., 2., 1., 0., 1., 0., 3., 3., 0.,\n",
       "       2., 0., 0., 3., 1., 0., 0., 0., 0., 3., 0., 0., 0., 1., 3., 2., 1.,\n",
       "       3., 0., 3., 3., 1., 0., 1., 2., 1., 0., 0., 0., 0., 0., 0., 3., 3.,\n",
       "       3., 0., 3., 1., 3., 1., 1., 0., 0., 1., 3., 0., 0., 1., 0., 3., 0.,\n",
       "       0., 3., 3., 0., 1., 3., 2., 0., 2., 0., 3., 0., 0., 3., 1., 1., 1.,\n",
       "       1., 0., 0., 0., 1., 3., 0., 0., 1., 0., 3., 1., 0., 0., 3., 2., 2.,\n",
       "       3., 0., 0., 2., 0., 1., 3., 0., 1., 1., 0., 1., 1., 1., 1., 0., 0.,\n",
       "       3., 3., 1., 0., 1., 0., 0., 1., 3., 3., 1., 0., 0., 0., 1., 3., 3.,\n",
       "       3., 2., 3., 3., 0., 1., 2., 2., 3., 3., 3., 1., 1., 3., 0., 1., 0.,\n",
       "       1., 2., 0., 3., 0., 2., 0., 1., 0., 2., 3., 1., 3., 0., 1., 1., 3.,\n",
       "       2., 0., 3., 0., 1., 1., 0., 1., 3., 1., 0., 3., 1., 3., 1., 0., 3.,\n",
       "       1., 0., 2., 3., 0., 3., 0., 0., 1., 2., 2., 3., 3., 2., 1., 0., 0.,\n",
       "       3., 0., 1., 1., 1., 1., 3., 1., 1., 0., 1., 3., 0., 1., 3., 0., 3.,\n",
       "       0., 2., 3., 0., 3., 3., 0., 2., 0., 0., 2., 1., 0., 3., 0., 1., 0.,\n",
       "       1., 1., 0., 3., 1., 0., 1., 3., 0., 3., 0., 0., 0., 1., 3., 3., 3.,\n",
       "       0., 1., 1., 2., 3., 1., 0., 1., 0., 1., 1., 3., 0., 0., 3., 3., 0.,\n",
       "       0., 1., 0., 2., 2., 1., 1., 0., 0., 0., 1., 1., 3., 3., 2., 0., 0.,\n",
       "       0., 0., 1., 0., 0., 0., 1., 3., 0., 0., 1., 3., 3., 0., 1., 0., 3.,\n",
       "       3., 3., 1., 3., 0., 1., 2., 3., 1., 0., 2., 0., 1., 2., 3., 2., 1.,\n",
       "       2., 3., 1., 3., 0., 1., 1., 1., 0., 0., 1., 0., 1., 0., 1., 2., 0.,\n",
       "       3., 0., 0., 3., 1., 0., 0., 0., 1., 0., 1., 1., 3., 1., 1., 2., 0.,\n",
       "       0., 0., 1., 1., 0., 3., 2., 0., 0., 1., 3., 0., 2., 3., 1., 0., 0.,\n",
       "       3., 3., 3., 3., 1., 1., 3., 3., 1., 0., 3., 0., 0., 1., 1., 0., 3.,\n",
       "       1., 1., 1., 3., 0., 3., 0., 3., 0., 1., 2., 0., 0., 0., 0., 3., 3.,\n",
       "       3., 3., 2., 0., 1., 2., 0., 1., 3., 0., 3., 3., 3., 3., 3., 0., 0.,\n",
       "       1., 1., 1., 1., 1., 0., 0., 0., 3., 1., 1., 1., 1., 3., 3., 0., 2.,\n",
       "       1., 1., 1., 2., 1., 1., 0., 1., 0., 0., 1., 1., 2., 1., 3., 1., 1.,\n",
       "       0., 0., 0., 0., 3., 1., 0.])"
      ]
     },
     "execution_count": 13,
     "metadata": {},
     "output_type": "execute_result"
    }
   ],
   "source": [
    "labels"
   ]
  }
 ],
 "metadata": {
  "kernelspec": {
   "display_name": "package-python-machine-learning-algorithms-bsLtoVBu-py3.10",
   "language": "python",
   "name": "python3"
  },
  "language_info": {
   "codemirror_mode": {
    "name": "ipython",
    "version": 3
   },
   "file_extension": ".py",
   "mimetype": "text/x-python",
   "name": "python",
   "nbconvert_exporter": "python",
   "pygments_lexer": "ipython3",
   "version": "3.10.10"
  }
 },
 "nbformat": 4,
 "nbformat_minor": 5
}
